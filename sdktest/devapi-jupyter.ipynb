{
 "cells": [
  {
   "cell_type": "markdown",
   "metadata": {},
   "source": [
    "## Installation + auth test - Gemini dev API (Python)"
   ]
  },
  {
   "cell_type": "markdown",
   "metadata": {},
   "source": [
    "https://ai.google.dev/gemini-api/docs/get-started/python \n",
    "\n",
    "Prereqs:\n",
    "- Python 3.10.10  (Docs say Python 3.9+ is fine.)\n",
    "- Jupyter Notebook VSCode extension. (Called \"Jupyter\" from Microsoft)\n",
    "\n",
    "### Setup: (Run in a local terminal)\n",
    "\n",
    "1. Install Jupyter on Mac. \n",
    "```\n",
    "brew install jupyterlab\n",
    "```\n",
    "\n",
    "2. Verify Jupyter is installed. \n",
    "```\n",
    "jupyter --version\n",
    "```\n",
    "\n",
    "Should see: \n",
    "\n",
    "```\n",
    "Selected Jupyter core packages...\n",
    "IPython          : 8.23.0\n",
    "ipykernel        : 6.29.4\n",
    "... etc \n",
    "```\n",
    "\n",
    "3. Install the Gemini dev API SDK. \n",
    "\n",
    "```\n",
    "pip install -q -U google-generativeai\n",
    "```\n",
    "\n",
    "4. Open back up this notebook (or create a new notebook) in VSCode. You should see a Jupyter toolbar at the top, coming from the Jupyter VSCode extension. \n",
    "\n",
    "5. Start a local **kernel.** A kernel is the Python server that allows individual \"cells\" of your notebook to run. Do this by clicking the \"select kernel\" button. There should be a default Python 3.9+ kernel at the top (mine is starred). Click that, and the kernel should start. When it's working, you should see \"Python 3.x\" on the top-right of your VSCode window. \n",
    "\n",
    "Now, proceed to the cells below, which are executable Python... "
   ]
  },
  {
   "cell_type": "code",
   "execution_count": 2,
   "metadata": {},
   "outputs": [
    {
     "name": "stdout",
     "output_type": "stream",
     "text": [
      "hello world!\n"
     ]
    }
   ],
   "source": [
    "# Verify that your kernel is running. You should see \"hello world\" output below the cell, when you execute. \n",
    "print(\"hello world!\")"
   ]
  },
  {
   "cell_type": "code",
   "execution_count": 21,
   "metadata": {},
   "outputs": [
    {
     "name": "stdout",
     "output_type": "stream",
     "text": [
      "\n",
      "\u001b[1m[\u001b[0m\u001b[34;49mnotice\u001b[0m\u001b[1;39;49m]\u001b[0m\u001b[39;49m A new release of pip available: \u001b[0m\u001b[31;49m22.3.1\u001b[0m\u001b[39;49m -> \u001b[0m\u001b[32;49m24.0\u001b[0m\n",
      "\u001b[1m[\u001b[0m\u001b[34;49mnotice\u001b[0m\u001b[1;39;49m]\u001b[0m\u001b[39;49m To update, run: \u001b[0m\u001b[32;49mpip install --upgrade pip\u001b[0m\n",
      "\n",
      "\u001b[1m[\u001b[0m\u001b[34;49mnotice\u001b[0m\u001b[1;39;49m]\u001b[0m\u001b[39;49m A new release of pip available: \u001b[0m\u001b[31;49m22.3.1\u001b[0m\u001b[39;49m -> \u001b[0m\u001b[32;49m24.0\u001b[0m\n",
      "\u001b[1m[\u001b[0m\u001b[34;49mnotice\u001b[0m\u001b[1;39;49m]\u001b[0m\u001b[39;49m To update, run: \u001b[0m\u001b[32;49mpip install --upgrade pip\u001b[0m\n"
     ]
    }
   ],
   "source": [
    "# Install the gemini dev API SDK. The exclamation point before \"pip\" means that we are running a shell command from the notebook. \n",
    "! pip install -q -U google-generativeai\n",
    "! pip install -q -U google-auth "
   ]
  },
  {
   "cell_type": "code",
   "execution_count": 22,
   "metadata": {},
   "outputs": [],
   "source": [
    "# import gemini dev SDK \n",
    "import pathlib\n",
    "import textwrap\n",
    "\n",
    "import google.generativeai as genai\n",
    "\n",
    "from IPython.display import display\n",
    "from IPython.display import Markdown\n",
    "\n",
    "\n",
    "def to_markdown(text):\n",
    "  text = text.replace('•', '  *')\n",
    "  return Markdown(textwrap.indent(text, '> ', predicate=lambda _: True))"
   ]
  },
  {
   "cell_type": "code",
   "execution_count": 23,
   "metadata": {},
   "outputs": [],
   "source": [
    "# Skip the colab package install (mine errored out), and just set GOOGLE_API_KEY to a raw text field for now. DO NOT COMMIT YOUR KEY. \n",
    "\n",
    "# Find yours at: https://aistudio.google.com/app/apikey \n",
    "\n",
    "api_key=\"YOUR_KEY_HERE\""
   ]
  },
  {
   "cell_type": "code",
   "execution_count": 24,
   "metadata": {},
   "outputs": [],
   "source": [
    "genai.configure(api_key=api_key)"
   ]
  },
  {
   "cell_type": "code",
   "execution_count": 25,
   "metadata": {},
   "outputs": [
    {
     "name": "stdout",
     "output_type": "stream",
     "text": [
      "models/gemini-1.0-pro\n",
      "models/gemini-1.0-pro-001\n",
      "models/gemini-1.0-pro-latest\n",
      "models/gemini-1.0-pro-vision-latest\n",
      "models/gemini-1.5-pro-latest\n",
      "models/gemini-pro\n",
      "models/gemini-pro-vision\n"
     ]
    }
   ],
   "source": [
    "# Verify that the client is configured. \n",
    "for m in genai.list_models():\n",
    "  if 'generateContent' in m.supported_generation_methods:\n",
    "    print(m.name)"
   ]
  },
  {
   "cell_type": "code",
   "execution_count": 27,
   "metadata": {},
   "outputs": [
    {
     "data": {
      "text/markdown": [
       "> Estimates of the number of frog species range from 4,835 to 6,350, with around 400 new species being discovered every year."
      ],
      "text/plain": [
       "<IPython.core.display.Markdown object>"
      ]
     },
     "execution_count": 27,
     "metadata": {},
     "output_type": "execute_result"
    }
   ],
   "source": [
    "# Test inference \n",
    "model = genai.GenerativeModel('gemini-pro')\n",
    "response = model.generate_content(\"How many species of frogs are there?\")\n",
    "to_markdown(response.text)"
   ]
  }
 ],
 "metadata": {
  "kernelspec": {
   "display_name": "Python 3",
   "language": "python",
   "name": "python3"
  },
  "language_info": {
   "codemirror_mode": {
    "name": "ipython",
    "version": 3
   },
   "file_extension": ".py",
   "mimetype": "text/x-python",
   "name": "python",
   "nbconvert_exporter": "python",
   "pygments_lexer": "ipython3",
   "version": "3.10.10"
  }
 },
 "nbformat": 4,
 "nbformat_minor": 2
}
