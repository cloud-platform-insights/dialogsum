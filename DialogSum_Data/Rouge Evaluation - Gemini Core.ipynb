{
  "cells": [
    {
      "cell_type": "markdown",
      "source": [
        "# ROUGE (Recall-oriented Understudy of Gisting Evaluation)"
      ],
      "metadata": {
        "id": "fumBazpDykhw"
      },
      "id": "fumBazpDykhw"
    },
    {
      "cell_type": "markdown",
      "source": [
        "## Install packages"
      ],
      "metadata": {
        "id": "_iyhJi88yeQ6"
      },
      "id": "_iyhJi88yeQ6"
    },
    {
      "cell_type": "code",
      "id": "EnjgkMbwhy0765tGS8W9LL2z",
      "metadata": {
        "tags": [],
        "id": "EnjgkMbwhy0765tGS8W9LL2z",
        "colab": {
          "base_uri": "https://localhost:8080/"
        },
        "executionInfo": {
          "status": "ok",
          "timestamp": 1715384752637,
          "user_tz": 420,
          "elapsed": 21988,
          "user": {
            "displayName": "",
            "userId": ""
          }
        },
        "outputId": "bf769810-af4e-4797-9d97-be83598878ee"
      },
      "source": [
        "!pip install evaluate\n",
        "!pip install rouge-score\n",
        "!pip install pandas"
      ],
      "execution_count": 18,
      "outputs": [
        {
          "output_type": "stream",
          "name": "stdout",
          "text": [
            "Requirement already satisfied: evaluate in /usr/local/lib/python3.10/dist-packages (0.4.2)\n",
            "Requirement already satisfied: datasets>=2.0.0 in /usr/local/lib/python3.10/dist-packages (from evaluate) (2.19.1)\n",
            "Requirement already satisfied: numpy>=1.17 in /usr/local/lib/python3.10/dist-packages (from evaluate) (1.25.2)\n",
            "Requirement already satisfied: dill in /usr/local/lib/python3.10/dist-packages (from evaluate) (0.3.8)\n",
            "Requirement already satisfied: pandas in /usr/local/lib/python3.10/dist-packages (from evaluate) (2.0.3)\n",
            "Requirement already satisfied: requests>=2.19.0 in /usr/local/lib/python3.10/dist-packages (from evaluate) (2.31.0)\n",
            "Requirement already satisfied: tqdm>=4.62.1 in /usr/local/lib/python3.10/dist-packages (from evaluate) (4.66.2)\n",
            "Requirement already satisfied: xxhash in /usr/local/lib/python3.10/dist-packages (from evaluate) (3.4.1)\n",
            "Requirement already satisfied: multiprocess in /usr/local/lib/python3.10/dist-packages (from evaluate) (0.70.16)\n",
            "Requirement already satisfied: fsspec[http]>=2021.05.0 in /usr/local/lib/python3.10/dist-packages (from evaluate) (2023.6.0)\n",
            "Requirement already satisfied: huggingface-hub>=0.7.0 in /usr/local/lib/python3.10/dist-packages (from evaluate) (0.23.0)\n",
            "Requirement already satisfied: packaging in /usr/local/lib/python3.10/dist-packages (from evaluate) (24.0)\n",
            "Requirement already satisfied: filelock in /usr/local/lib/python3.10/dist-packages (from datasets>=2.0.0->evaluate) (3.13.4)\n",
            "Requirement already satisfied: pyarrow>=12.0.0 in /usr/local/lib/python3.10/dist-packages (from datasets>=2.0.0->evaluate) (14.0.2)\n",
            "Requirement already satisfied: pyarrow-hotfix in /usr/local/lib/python3.10/dist-packages (from datasets>=2.0.0->evaluate) (0.6)\n",
            "Requirement already satisfied: aiohttp in /usr/local/lib/python3.10/dist-packages (from datasets>=2.0.0->evaluate) (3.9.5)\n",
            "Requirement already satisfied: pyyaml>=5.1 in /usr/local/lib/python3.10/dist-packages (from datasets>=2.0.0->evaluate) (6.0.1)\n",
            "Requirement already satisfied: typing-extensions>=3.7.4.3 in /usr/local/lib/python3.10/dist-packages (from huggingface-hub>=0.7.0->evaluate) (4.11.0)\n",
            "Requirement already satisfied: charset-normalizer<4,>=2 in /usr/local/lib/python3.10/dist-packages (from requests>=2.19.0->evaluate) (3.3.2)\n",
            "Requirement already satisfied: idna<4,>=2.5 in /usr/local/lib/python3.10/dist-packages (from requests>=2.19.0->evaluate) (3.7)\n",
            "Requirement already satisfied: urllib3<3,>=1.21.1 in /usr/local/lib/python3.10/dist-packages (from requests>=2.19.0->evaluate) (2.0.7)\n",
            "Requirement already satisfied: certifi>=2017.4.17 in /usr/local/lib/python3.10/dist-packages (from requests>=2.19.0->evaluate) (2024.2.2)\n",
            "Requirement already satisfied: python-dateutil>=2.8.2 in /usr/local/lib/python3.10/dist-packages (from pandas->evaluate) (2.8.2)\n",
            "Requirement already satisfied: pytz>=2020.1 in /usr/local/lib/python3.10/dist-packages (from pandas->evaluate) (2023.4)\n",
            "Requirement already satisfied: tzdata>=2022.1 in /usr/local/lib/python3.10/dist-packages (from pandas->evaluate) (2024.1)\n",
            "Requirement already satisfied: aiosignal>=1.1.2 in /usr/local/lib/python3.10/dist-packages (from aiohttp->datasets>=2.0.0->evaluate) (1.3.1)\n",
            "Requirement already satisfied: attrs>=17.3.0 in /usr/local/lib/python3.10/dist-packages (from aiohttp->datasets>=2.0.0->evaluate) (23.2.0)\n",
            "Requirement already satisfied: frozenlist>=1.1.1 in /usr/local/lib/python3.10/dist-packages (from aiohttp->datasets>=2.0.0->evaluate) (1.4.1)\n",
            "Requirement already satisfied: multidict<7.0,>=4.5 in /usr/local/lib/python3.10/dist-packages (from aiohttp->datasets>=2.0.0->evaluate) (6.0.5)\n",
            "Requirement already satisfied: yarl<2.0,>=1.0 in /usr/local/lib/python3.10/dist-packages (from aiohttp->datasets>=2.0.0->evaluate) (1.9.4)\n",
            "Requirement already satisfied: async-timeout<5.0,>=4.0 in /usr/local/lib/python3.10/dist-packages (from aiohttp->datasets>=2.0.0->evaluate) (4.0.3)\n",
            "Requirement already satisfied: six>=1.5 in /usr/local/lib/python3.10/dist-packages (from python-dateutil>=2.8.2->pandas->evaluate) (1.16.0)\n",
            "Requirement already satisfied: rouge-score in /usr/local/lib/python3.10/dist-packages (0.1.2)\n",
            "Requirement already satisfied: absl-py in /usr/local/lib/python3.10/dist-packages (from rouge-score) (1.4.0)\n",
            "Requirement already satisfied: nltk in /usr/local/lib/python3.10/dist-packages (from rouge-score) (3.8.1)\n",
            "Requirement already satisfied: numpy in /usr/local/lib/python3.10/dist-packages (from rouge-score) (1.25.2)\n",
            "Requirement already satisfied: six>=1.14.0 in /usr/local/lib/python3.10/dist-packages (from rouge-score) (1.16.0)\n",
            "Requirement already satisfied: click in /usr/local/lib/python3.10/dist-packages (from nltk->rouge-score) (8.1.7)\n",
            "Requirement already satisfied: joblib in /usr/local/lib/python3.10/dist-packages (from nltk->rouge-score) (1.4.0)\n",
            "Requirement already satisfied: regex>=2021.8.3 in /usr/local/lib/python3.10/dist-packages (from nltk->rouge-score) (2023.12.25)\n",
            "Requirement already satisfied: tqdm in /usr/local/lib/python3.10/dist-packages (from nltk->rouge-score) (4.66.2)\n",
            "Requirement already satisfied: pandas in /usr/local/lib/python3.10/dist-packages (2.0.3)\n",
            "Requirement already satisfied: python-dateutil>=2.8.2 in /usr/local/lib/python3.10/dist-packages (from pandas) (2.8.2)\n",
            "Requirement already satisfied: pytz>=2020.1 in /usr/local/lib/python3.10/dist-packages (from pandas) (2023.4)\n",
            "Requirement already satisfied: tzdata>=2022.1 in /usr/local/lib/python3.10/dist-packages (from pandas) (2024.1)\n",
            "Requirement already satisfied: numpy>=1.21.0 in /usr/local/lib/python3.10/dist-packages (from pandas) (1.25.2)\n",
            "Requirement already satisfied: six>=1.5 in /usr/local/lib/python3.10/dist-packages (from python-dateutil>=2.8.2->pandas) (1.16.0)\n"
          ]
        }
      ]
    },
    {
      "cell_type": "markdown",
      "source": [
        "## Load the rouge metric"
      ],
      "metadata": {
        "id": "3vDKKBP5zEsc"
      },
      "id": "3vDKKBP5zEsc"
    },
    {
      "cell_type": "code",
      "source": [
        "import evaluate\n",
        "rouge = evaluate.load(\"rouge\")"
      ],
      "metadata": {
        "id": "JujAGoZGzHU0",
        "executionInfo": {
          "status": "ok",
          "timestamp": 1715389406727,
          "user_tz": 420,
          "elapsed": 513,
          "user": {
            "displayName": "",
            "userId": ""
          }
        }
      },
      "id": "JujAGoZGzHU0",
      "execution_count": 129,
      "outputs": []
    },
    {
      "cell_type": "markdown",
      "source": [
        "## Provide predictions and references"
      ],
      "metadata": {
        "id": "N2gufOeQzmzX"
      },
      "id": "N2gufOeQzmzX"
    },
    {
      "cell_type": "code",
      "source": [
        "predictions = ['the cat was found under the bed']\n",
        "references = [['the cat was found under the bed', 'hellow worldd', 'goodbye bird']]\n",
        "\n",
        "rouge.compute(predictions=predictions, references=references)"
      ],
      "metadata": {
        "colab": {
          "base_uri": "https://localhost:8080/"
        },
        "id": "7bq6dTP9zqxr",
        "executionInfo": {
          "status": "ok",
          "timestamp": 1715389716696,
          "user_tz": 420,
          "elapsed": 1423,
          "user": {
            "displayName": "",
            "userId": ""
          }
        },
        "outputId": "df396f76-023e-47f8-f03a-11d414127ba9"
      },
      "id": "7bq6dTP9zqxr",
      "execution_count": 153,
      "outputs": [
        {
          "output_type": "execute_result",
          "data": {
            "text/plain": [
              "{'rouge1': 1.0, 'rouge2': 1.0, 'rougeL': 1.0, 'rougeLsum': 1.0}"
            ]
          },
          "metadata": {},
          "execution_count": 153
        }
      ]
    },
    {
      "cell_type": "code",
      "source": [
        "test_2_tuned_summary = \"#Person1# tells Kate that Masha and Hero are getting divorced. Kate is surprised and can't believe it. Masha and Hero are having a separation for 2 months and filed for divorce.\"\n",
        "\n",
        "\n",
        "ref1 = 'Masha and Hero are getting divorced.'\n",
        "ref2 = 'Someone is telling Kate that Masha and Hero are getting a peaceful divorce. Kate feels surprised and asks about their children.'\n",
        "ref3 = '#Person1# and Kate talk about the divorce between Masha and Hero. Kate feels surprised because she thought they are well matched'\n",
        "test_2_refs = [ref1, ref2, ref3]\n",
        "print('all 3 refs in one array')\n",
        "\n",
        "print(rouge.compute(\n",
        "    predictions=[test_2_tuned_summary],\n",
        "    references=[test_2_refs]))\n",
        "\n",
        "print(1)\n",
        "print(rouge.compute(\n",
        "    predictions=[test_2_tuned_summary],\n",
        "    references=[ref1]))\n",
        "print(2)\n",
        "print(rouge.compute(\n",
        "    predictions=[test_2_tuned_summary],\n",
        "    references=[ref2]))\n",
        "print(3)\n",
        "print(rouge.compute(\n",
        "    predictions=[test_2_tuned_summary],\n",
        "    references=[ref3]))"
      ],
      "metadata": {
        "colab": {
          "base_uri": "https://localhost:8080/"
        },
        "id": "AIiZghpBEyBk",
        "executionInfo": {
          "status": "ok",
          "timestamp": 1715391025725,
          "user_tz": 420,
          "elapsed": 4968,
          "user": {
            "displayName": "",
            "userId": ""
          }
        },
        "outputId": "23f5a060-e0b5-4da0-c33c-a43bf3930b03"
      },
      "id": "AIiZghpBEyBk",
      "execution_count": 180,
      "outputs": [
        {
          "output_type": "stream",
          "name": "stdout",
          "text": [
            "all 3 refs in one array\n",
            "{'rouge1': 0.49056603773584906, 'rouge2': 0.27777777777777773, 'rougeL': 0.37735849056603776, 'rougeLsum': 0.37735849056603776}\n",
            "1\n",
            "{'rouge1': 0.3157894736842105, 'rouge2': 0.27777777777777773, 'rougeL': 0.3157894736842105, 'rougeLsum': 0.3157894736842105}\n",
            "2\n",
            "{'rouge1': 0.49056603773584906, 'rouge2': 0.2745098039215686, 'rougeL': 0.37735849056603776, 'rougeLsum': 0.37735849056603776}\n",
            "3\n",
            "{'rouge1': 0.37735849056603776, 'rouge2': 0.0784313725490196, 'rougeL': 0.3018867924528302, 'rougeLsum': 0.3018867924528302}\n"
          ]
        }
      ]
    },
    {
      "cell_type": "code",
      "source": [
        "print(rouge.compute(\n",
        "    predictions=[test_02_dialogue],\n",
        "    references=[[test_02_ref1,test_02_ref2,test_02_ref3]]))\n"
      ],
      "metadata": {
        "colab": {
          "base_uri": "https://localhost:8080/"
        },
        "id": "cpfjOEEzFzlG",
        "executionInfo": {
          "status": "ok",
          "timestamp": 1715388649221,
          "user_tz": 420,
          "elapsed": 394,
          "user": {
            "displayName": "",
            "userId": ""
          }
        },
        "outputId": "b4d9f95f-8ea7-4200-85e4-051eabea7a09"
      },
      "id": "cpfjOEEzFzlG",
      "execution_count": 83,
      "outputs": [
        {
          "output_type": "stream",
          "name": "stdout",
          "text": [
            "{'rouge1': 0.04761904761904762, 'rouge2': 0.0, 'rougeL': 0.04761904761904762, 'rougeLsum': 0.04761904761904762}\n"
          ]
        }
      ]
    },
    {
      "cell_type": "markdown",
      "source": [],
      "metadata": {
        "id": "ShYYl3w22c7C"
      },
      "id": "ShYYl3w22c7C"
    },
    {
      "cell_type": "markdown",
      "source": [],
      "metadata": {
        "id": "QtaZ4R2AzNkH"
      },
      "id": "QtaZ4R2AzNkH"
    },
    {
      "cell_type": "code",
      "source": [
        "results = rouge.compute(\n",
        "    predictions=predictions,\n",
        "    references=references)\n",
        "\n",
        "results"
      ],
      "metadata": {
        "colab": {
          "base_uri": "https://localhost:8080/"
        },
        "id": "deMtfJsg0Fll",
        "executionInfo": {
          "status": "ok",
          "timestamp": 1715387267714,
          "user_tz": 420,
          "elapsed": 190,
          "user": {
            "displayName": "",
            "userId": ""
          }
        },
        "outputId": "cbdff611-d5b7-454d-a253-abc11cca85e0"
      },
      "id": "deMtfJsg0Fll",
      "execution_count": 71,
      "outputs": [
        {
          "output_type": "execute_result",
          "data": {
            "text/plain": [
              "{'rouge1': 0.43076923076923074,\n",
              " 'rouge2': 0.19047619047619047,\n",
              " 'rougeL': 0.27692307692307694,\n",
              " 'rougeLsum': 0.27692307692307694}"
            ]
          },
          "metadata": {},
          "execution_count": 71
        }
      ]
    },
    {
      "cell_type": "markdown",
      "source": [
        "{'rouge1': 0.9615384615384615,\n",
        " 'rouge2': 0.8636363636363635,\n",
        " 'rougeL': 0.9615384615384615,\n",
        " 'rougeLsum': 0.9615384615384615}"
      ],
      "metadata": {
        "id": "bOjhyolZ0tFc"
      },
      "id": "bOjhyolZ0tFc"
    },
    {
      "cell_type": "markdown",
      "source": [
        "## Import CSV files"
      ],
      "metadata": {
        "id": "YC-0SI6F4GhK"
      },
      "id": "YC-0SI6F4GhK"
    },
    {
      "cell_type": "code",
      "source": [
        "import pandas as pd\n",
        "\n",
        "# Load the CSV files into Pandas DataFrames\n",
        "test_prompts = pd.read_csv('file://localhost/content/dialogsum.test.truncated.csv')\n",
        "test_prompts = test_prompts.drop(columns=['topic1', 'topic2', 'topic3'])\n",
        "tuned_model_results = pd.read_csv('file://localhost/content/dialogsum.test.truncated.output.csv')\n",
        "\n",
        "# Ensure dataframes are sorted the same on fname and dialogue\n",
        "# test_prompts.sort_values(by=['fname', 'dialogue'], inplace=True)\n",
        "# tuned_model_results.sort_values(by=['fname', 'dialogue'], inplace=True)\n",
        "\n",
        "# Temporary, drop all rows but 1\n",
        "\n",
        "# test_prompts.drop(test_prompts.index[3:], inplace=True)\n",
        "# tuned_model_results.drop(tuned_model_results.index[3:], inplace=True)"
      ],
      "metadata": {
        "id": "zHjax2zH4KWi",
        "executionInfo": {
          "status": "ok",
          "timestamp": 1715391254871,
          "user_tz": 420,
          "elapsed": 186,
          "user": {
            "displayName": "",
            "userId": ""
          }
        }
      },
      "id": "zHjax2zH4KWi",
      "execution_count": 185,
      "outputs": []
    },
    {
      "cell_type": "code",
      "source": [
        "test_prompts\n"
      ],
      "metadata": {
        "colab": {
          "base_uri": "https://localhost:8080/",
          "height": 196
        },
        "id": "_Mmf8tuX6B2U",
        "executionInfo": {
          "status": "ok",
          "timestamp": 1715385850341,
          "user_tz": 420,
          "elapsed": 5,
          "user": {
            "displayName": "",
            "userId": ""
          }
        },
        "outputId": "7d58e578-1a4a-43b7-dfe4-e1867341dd1f"
      },
      "id": "_Mmf8tuX6B2U",
      "execution_count": 41,
      "outputs": [
        {
          "output_type": "execute_result",
          "data": {
            "text/plain": [
              "    fname                                           dialogue  \\\n",
              "0  test_0  #Person1#: Ms. Dawson, I need you to take a di...   \n",
              "1  test_1  #Person1#: You're finally here! What took so l...   \n",
              "2  test_2  #Person1#: Kate, you never believe what's happ...   \n",
              "\n",
              "                                            summary1  \\\n",
              "0  Ms. Dawson helps #Person1# to write a memo to ...   \n",
              "1  #Person2# arrives late because of traffic jam....   \n",
              "2  #Person1# tells Kate that Masha and Hero get d...   \n",
              "\n",
              "                                            summary2  \\\n",
              "0  In order to prevent employees from wasting tim...   \n",
              "1  #Person2# decides to follow #Person1#'s sugges...   \n",
              "2  #Person1# tells Kate that Masha and Hero are g...   \n",
              "\n",
              "                                            summary3  \n",
              "0  Ms. Dawson takes a dictation for #Person1# abo...  \n",
              "1  #Person2# complains to #Person1# about the tra...  \n",
              "2  #Person1# and Kate talk about the divorce betw...  "
            ],
            "text/html": [
              "\n",
              "  <div id=\"df-90f263b7-ed80-473b-8371-9ca3fb0e68f6\" class=\"colab-df-container\">\n",
              "    <div>\n",
              "<style scoped>\n",
              "    .dataframe tbody tr th:only-of-type {\n",
              "        vertical-align: middle;\n",
              "    }\n",
              "\n",
              "    .dataframe tbody tr th {\n",
              "        vertical-align: top;\n",
              "    }\n",
              "\n",
              "    .dataframe thead th {\n",
              "        text-align: right;\n",
              "    }\n",
              "</style>\n",
              "<table border=\"1\" class=\"dataframe\">\n",
              "  <thead>\n",
              "    <tr style=\"text-align: right;\">\n",
              "      <th></th>\n",
              "      <th>fname</th>\n",
              "      <th>dialogue</th>\n",
              "      <th>summary1</th>\n",
              "      <th>summary2</th>\n",
              "      <th>summary3</th>\n",
              "    </tr>\n",
              "  </thead>\n",
              "  <tbody>\n",
              "    <tr>\n",
              "      <th>0</th>\n",
              "      <td>test_0</td>\n",
              "      <td>#Person1#: Ms. Dawson, I need you to take a di...</td>\n",
              "      <td>Ms. Dawson helps #Person1# to write a memo to ...</td>\n",
              "      <td>In order to prevent employees from wasting tim...</td>\n",
              "      <td>Ms. Dawson takes a dictation for #Person1# abo...</td>\n",
              "    </tr>\n",
              "    <tr>\n",
              "      <th>1</th>\n",
              "      <td>test_1</td>\n",
              "      <td>#Person1#: You're finally here! What took so l...</td>\n",
              "      <td>#Person2# arrives late because of traffic jam....</td>\n",
              "      <td>#Person2# decides to follow #Person1#'s sugges...</td>\n",
              "      <td>#Person2# complains to #Person1# about the tra...</td>\n",
              "    </tr>\n",
              "    <tr>\n",
              "      <th>2</th>\n",
              "      <td>test_2</td>\n",
              "      <td>#Person1#: Kate, you never believe what's happ...</td>\n",
              "      <td>#Person1# tells Kate that Masha and Hero get d...</td>\n",
              "      <td>#Person1# tells Kate that Masha and Hero are g...</td>\n",
              "      <td>#Person1# and Kate talk about the divorce betw...</td>\n",
              "    </tr>\n",
              "  </tbody>\n",
              "</table>\n",
              "</div>\n",
              "    <div class=\"colab-df-buttons\">\n",
              "\n",
              "  <div class=\"colab-df-container\">\n",
              "    <button class=\"colab-df-convert\" onclick=\"convertToInteractive('df-90f263b7-ed80-473b-8371-9ca3fb0e68f6')\"\n",
              "            title=\"Convert this dataframe to an interactive table.\"\n",
              "            style=\"display:none;\">\n",
              "\n",
              "  <svg xmlns=\"http://www.w3.org/2000/svg\" height=\"24px\" viewBox=\"0 -960 960 960\">\n",
              "    <path d=\"M120-120v-720h720v720H120Zm60-500h600v-160H180v160Zm220 220h160v-160H400v160Zm0 220h160v-160H400v160ZM180-400h160v-160H180v160Zm440 0h160v-160H620v160ZM180-180h160v-160H180v160Zm440 0h160v-160H620v160Z\"/>\n",
              "  </svg>\n",
              "    </button>\n",
              "\n",
              "  <style>\n",
              "    .colab-df-container {\n",
              "      display:flex;\n",
              "      gap: 12px;\n",
              "    }\n",
              "\n",
              "    .colab-df-convert {\n",
              "      background-color: #E8F0FE;\n",
              "      border: none;\n",
              "      border-radius: 50%;\n",
              "      cursor: pointer;\n",
              "      display: none;\n",
              "      fill: #1967D2;\n",
              "      height: 32px;\n",
              "      padding: 0 0 0 0;\n",
              "      width: 32px;\n",
              "    }\n",
              "\n",
              "    .colab-df-convert:hover {\n",
              "      background-color: #E2EBFA;\n",
              "      box-shadow: 0px 1px 2px rgba(60, 64, 67, 0.3), 0px 1px 3px 1px rgba(60, 64, 67, 0.15);\n",
              "      fill: #174EA6;\n",
              "    }\n",
              "\n",
              "    .colab-df-buttons div {\n",
              "      margin-bottom: 4px;\n",
              "    }\n",
              "\n",
              "    [theme=dark] .colab-df-convert {\n",
              "      background-color: #3B4455;\n",
              "      fill: #D2E3FC;\n",
              "    }\n",
              "\n",
              "    [theme=dark] .colab-df-convert:hover {\n",
              "      background-color: #434B5C;\n",
              "      box-shadow: 0px 1px 3px 1px rgba(0, 0, 0, 0.15);\n",
              "      filter: drop-shadow(0px 1px 2px rgba(0, 0, 0, 0.3));\n",
              "      fill: #FFFFFF;\n",
              "    }\n",
              "  </style>\n",
              "\n",
              "    <script>\n",
              "      const buttonEl =\n",
              "        document.querySelector('#df-90f263b7-ed80-473b-8371-9ca3fb0e68f6 button.colab-df-convert');\n",
              "      buttonEl.style.display =\n",
              "        google.colab.kernel.accessAllowed ? 'block' : 'none';\n",
              "\n",
              "      async function convertToInteractive(key) {\n",
              "        const element = document.querySelector('#df-90f263b7-ed80-473b-8371-9ca3fb0e68f6');\n",
              "        const dataTable =\n",
              "          await google.colab.kernel.invokeFunction('convertToInteractive',\n",
              "                                                    [key], {});\n",
              "        if (!dataTable) return;\n",
              "\n",
              "        const docLinkHtml = 'Like what you see? Visit the ' +\n",
              "          '<a target=\"_blank\" href=https://colab.research.google.com/notebooks/data_table.ipynb>data table notebook</a>'\n",
              "          + ' to learn more about interactive tables.';\n",
              "        element.innerHTML = '';\n",
              "        dataTable['output_type'] = 'display_data';\n",
              "        await google.colab.output.renderOutput(dataTable, element);\n",
              "        const docLink = document.createElement('div');\n",
              "        docLink.innerHTML = docLinkHtml;\n",
              "        element.appendChild(docLink);\n",
              "      }\n",
              "    </script>\n",
              "  </div>\n",
              "\n",
              "\n",
              "<div id=\"df-ceaf3096-5fa7-436e-9ec3-1043e4b7fc1e\">\n",
              "  <button class=\"colab-df-quickchart\" onclick=\"quickchart('df-ceaf3096-5fa7-436e-9ec3-1043e4b7fc1e')\"\n",
              "            title=\"Suggest charts\"\n",
              "            style=\"display:none;\">\n",
              "\n",
              "<svg xmlns=\"http://www.w3.org/2000/svg\" height=\"24px\"viewBox=\"0 0 24 24\"\n",
              "     width=\"24px\">\n",
              "    <g>\n",
              "        <path d=\"M19 3H5c-1.1 0-2 .9-2 2v14c0 1.1.9 2 2 2h14c1.1 0 2-.9 2-2V5c0-1.1-.9-2-2-2zM9 17H7v-7h2v7zm4 0h-2V7h2v10zm4 0h-2v-4h2v4z\"/>\n",
              "    </g>\n",
              "</svg>\n",
              "  </button>\n",
              "\n",
              "<style>\n",
              "  .colab-df-quickchart {\n",
              "      --bg-color: #E8F0FE;\n",
              "      --fill-color: #1967D2;\n",
              "      --hover-bg-color: #E2EBFA;\n",
              "      --hover-fill-color: #174EA6;\n",
              "      --disabled-fill-color: #AAA;\n",
              "      --disabled-bg-color: #DDD;\n",
              "  }\n",
              "\n",
              "  [theme=dark] .colab-df-quickchart {\n",
              "      --bg-color: #3B4455;\n",
              "      --fill-color: #D2E3FC;\n",
              "      --hover-bg-color: #434B5C;\n",
              "      --hover-fill-color: #FFFFFF;\n",
              "      --disabled-bg-color: #3B4455;\n",
              "      --disabled-fill-color: #666;\n",
              "  }\n",
              "\n",
              "  .colab-df-quickchart {\n",
              "    background-color: var(--bg-color);\n",
              "    border: none;\n",
              "    border-radius: 50%;\n",
              "    cursor: pointer;\n",
              "    display: none;\n",
              "    fill: var(--fill-color);\n",
              "    height: 32px;\n",
              "    padding: 0;\n",
              "    width: 32px;\n",
              "  }\n",
              "\n",
              "  .colab-df-quickchart:hover {\n",
              "    background-color: var(--hover-bg-color);\n",
              "    box-shadow: 0 1px 2px rgba(60, 64, 67, 0.3), 0 1px 3px 1px rgba(60, 64, 67, 0.15);\n",
              "    fill: var(--button-hover-fill-color);\n",
              "  }\n",
              "\n",
              "  .colab-df-quickchart-complete:disabled,\n",
              "  .colab-df-quickchart-complete:disabled:hover {\n",
              "    background-color: var(--disabled-bg-color);\n",
              "    fill: var(--disabled-fill-color);\n",
              "    box-shadow: none;\n",
              "  }\n",
              "\n",
              "  .colab-df-spinner {\n",
              "    border: 2px solid var(--fill-color);\n",
              "    border-color: transparent;\n",
              "    border-bottom-color: var(--fill-color);\n",
              "    animation:\n",
              "      spin 1s steps(1) infinite;\n",
              "  }\n",
              "\n",
              "  @keyframes spin {\n",
              "    0% {\n",
              "      border-color: transparent;\n",
              "      border-bottom-color: var(--fill-color);\n",
              "      border-left-color: var(--fill-color);\n",
              "    }\n",
              "    20% {\n",
              "      border-color: transparent;\n",
              "      border-left-color: var(--fill-color);\n",
              "      border-top-color: var(--fill-color);\n",
              "    }\n",
              "    30% {\n",
              "      border-color: transparent;\n",
              "      border-left-color: var(--fill-color);\n",
              "      border-top-color: var(--fill-color);\n",
              "      border-right-color: var(--fill-color);\n",
              "    }\n",
              "    40% {\n",
              "      border-color: transparent;\n",
              "      border-right-color: var(--fill-color);\n",
              "      border-top-color: var(--fill-color);\n",
              "    }\n",
              "    60% {\n",
              "      border-color: transparent;\n",
              "      border-right-color: var(--fill-color);\n",
              "    }\n",
              "    80% {\n",
              "      border-color: transparent;\n",
              "      border-right-color: var(--fill-color);\n",
              "      border-bottom-color: var(--fill-color);\n",
              "    }\n",
              "    90% {\n",
              "      border-color: transparent;\n",
              "      border-bottom-color: var(--fill-color);\n",
              "    }\n",
              "  }\n",
              "</style>\n",
              "\n",
              "  <script>\n",
              "    async function quickchart(key) {\n",
              "      const quickchartButtonEl =\n",
              "        document.querySelector('#' + key + ' button');\n",
              "      quickchartButtonEl.disabled = true;  // To prevent multiple clicks.\n",
              "      quickchartButtonEl.classList.add('colab-df-spinner');\n",
              "      try {\n",
              "        const charts = await google.colab.kernel.invokeFunction(\n",
              "            'suggestCharts', [key], {});\n",
              "      } catch (error) {\n",
              "        console.error('Error during call to suggestCharts:', error);\n",
              "      }\n",
              "      quickchartButtonEl.classList.remove('colab-df-spinner');\n",
              "      quickchartButtonEl.classList.add('colab-df-quickchart-complete');\n",
              "    }\n",
              "    (() => {\n",
              "      let quickchartButtonEl =\n",
              "        document.querySelector('#df-ceaf3096-5fa7-436e-9ec3-1043e4b7fc1e button');\n",
              "      quickchartButtonEl.style.display =\n",
              "        google.colab.kernel.accessAllowed ? 'block' : 'none';\n",
              "    })();\n",
              "  </script>\n",
              "</div>\n",
              "    </div>\n",
              "  </div>\n"
            ]
          },
          "metadata": {},
          "execution_count": 41
        }
      ]
    },
    {
      "cell_type": "code",
      "source": [
        "tuned_model_results"
      ],
      "metadata": {
        "colab": {
          "base_uri": "https://localhost:8080/",
          "height": 143
        },
        "id": "GFi3P3Iu5lNf",
        "executionInfo": {
          "status": "ok",
          "timestamp": 1715385852260,
          "user_tz": 420,
          "elapsed": 4,
          "user": {
            "displayName": "",
            "userId": ""
          }
        },
        "outputId": "a06bc403-4268-47cd-d424-420dc19417ea"
      },
      "id": "GFi3P3Iu5lNf",
      "execution_count": 42,
      "outputs": [
        {
          "output_type": "execute_result",
          "data": {
            "text/plain": [
              "    fname                                           dialogue  \\\n",
              "0  test_0  #Person1#: Ms. Dawson, I need you to take a di...   \n",
              "1  test_1  #Person1#: You're finally here! What took so l...   \n",
              "2  test_2  #Person1#: Kate, you never believe what's happ...   \n",
              "\n",
              "                                             summary  \n",
              "0  #Person1# dictates a memo to #Person2# to rest...  \n",
              "1  #Person2# got stuck in traffic again. #Person1...  \n",
              "2  #Person1# tells Kate that Masha and Hero are g...  "
            ],
            "text/html": [
              "\n",
              "  <div id=\"df-965751af-1947-4c5e-b63e-75c6292e8c6f\" class=\"colab-df-container\">\n",
              "    <div>\n",
              "<style scoped>\n",
              "    .dataframe tbody tr th:only-of-type {\n",
              "        vertical-align: middle;\n",
              "    }\n",
              "\n",
              "    .dataframe tbody tr th {\n",
              "        vertical-align: top;\n",
              "    }\n",
              "\n",
              "    .dataframe thead th {\n",
              "        text-align: right;\n",
              "    }\n",
              "</style>\n",
              "<table border=\"1\" class=\"dataframe\">\n",
              "  <thead>\n",
              "    <tr style=\"text-align: right;\">\n",
              "      <th></th>\n",
              "      <th>fname</th>\n",
              "      <th>dialogue</th>\n",
              "      <th>summary</th>\n",
              "    </tr>\n",
              "  </thead>\n",
              "  <tbody>\n",
              "    <tr>\n",
              "      <th>0</th>\n",
              "      <td>test_0</td>\n",
              "      <td>#Person1#: Ms. Dawson, I need you to take a di...</td>\n",
              "      <td>#Person1# dictates a memo to #Person2# to rest...</td>\n",
              "    </tr>\n",
              "    <tr>\n",
              "      <th>1</th>\n",
              "      <td>test_1</td>\n",
              "      <td>#Person1#: You're finally here! What took so l...</td>\n",
              "      <td>#Person2# got stuck in traffic again. #Person1...</td>\n",
              "    </tr>\n",
              "    <tr>\n",
              "      <th>2</th>\n",
              "      <td>test_2</td>\n",
              "      <td>#Person1#: Kate, you never believe what's happ...</td>\n",
              "      <td>#Person1# tells Kate that Masha and Hero are g...</td>\n",
              "    </tr>\n",
              "  </tbody>\n",
              "</table>\n",
              "</div>\n",
              "    <div class=\"colab-df-buttons\">\n",
              "\n",
              "  <div class=\"colab-df-container\">\n",
              "    <button class=\"colab-df-convert\" onclick=\"convertToInteractive('df-965751af-1947-4c5e-b63e-75c6292e8c6f')\"\n",
              "            title=\"Convert this dataframe to an interactive table.\"\n",
              "            style=\"display:none;\">\n",
              "\n",
              "  <svg xmlns=\"http://www.w3.org/2000/svg\" height=\"24px\" viewBox=\"0 -960 960 960\">\n",
              "    <path d=\"M120-120v-720h720v720H120Zm60-500h600v-160H180v160Zm220 220h160v-160H400v160Zm0 220h160v-160H400v160ZM180-400h160v-160H180v160Zm440 0h160v-160H620v160ZM180-180h160v-160H180v160Zm440 0h160v-160H620v160Z\"/>\n",
              "  </svg>\n",
              "    </button>\n",
              "\n",
              "  <style>\n",
              "    .colab-df-container {\n",
              "      display:flex;\n",
              "      gap: 12px;\n",
              "    }\n",
              "\n",
              "    .colab-df-convert {\n",
              "      background-color: #E8F0FE;\n",
              "      border: none;\n",
              "      border-radius: 50%;\n",
              "      cursor: pointer;\n",
              "      display: none;\n",
              "      fill: #1967D2;\n",
              "      height: 32px;\n",
              "      padding: 0 0 0 0;\n",
              "      width: 32px;\n",
              "    }\n",
              "\n",
              "    .colab-df-convert:hover {\n",
              "      background-color: #E2EBFA;\n",
              "      box-shadow: 0px 1px 2px rgba(60, 64, 67, 0.3), 0px 1px 3px 1px rgba(60, 64, 67, 0.15);\n",
              "      fill: #174EA6;\n",
              "    }\n",
              "\n",
              "    .colab-df-buttons div {\n",
              "      margin-bottom: 4px;\n",
              "    }\n",
              "\n",
              "    [theme=dark] .colab-df-convert {\n",
              "      background-color: #3B4455;\n",
              "      fill: #D2E3FC;\n",
              "    }\n",
              "\n",
              "    [theme=dark] .colab-df-convert:hover {\n",
              "      background-color: #434B5C;\n",
              "      box-shadow: 0px 1px 3px 1px rgba(0, 0, 0, 0.15);\n",
              "      filter: drop-shadow(0px 1px 2px rgba(0, 0, 0, 0.3));\n",
              "      fill: #FFFFFF;\n",
              "    }\n",
              "  </style>\n",
              "\n",
              "    <script>\n",
              "      const buttonEl =\n",
              "        document.querySelector('#df-965751af-1947-4c5e-b63e-75c6292e8c6f button.colab-df-convert');\n",
              "      buttonEl.style.display =\n",
              "        google.colab.kernel.accessAllowed ? 'block' : 'none';\n",
              "\n",
              "      async function convertToInteractive(key) {\n",
              "        const element = document.querySelector('#df-965751af-1947-4c5e-b63e-75c6292e8c6f');\n",
              "        const dataTable =\n",
              "          await google.colab.kernel.invokeFunction('convertToInteractive',\n",
              "                                                    [key], {});\n",
              "        if (!dataTable) return;\n",
              "\n",
              "        const docLinkHtml = 'Like what you see? Visit the ' +\n",
              "          '<a target=\"_blank\" href=https://colab.research.google.com/notebooks/data_table.ipynb>data table notebook</a>'\n",
              "          + ' to learn more about interactive tables.';\n",
              "        element.innerHTML = '';\n",
              "        dataTable['output_type'] = 'display_data';\n",
              "        await google.colab.output.renderOutput(dataTable, element);\n",
              "        const docLink = document.createElement('div');\n",
              "        docLink.innerHTML = docLinkHtml;\n",
              "        element.appendChild(docLink);\n",
              "      }\n",
              "    </script>\n",
              "  </div>\n",
              "\n",
              "\n",
              "<div id=\"df-957a5ab2-4b07-4dfb-9d68-a6bba2785103\">\n",
              "  <button class=\"colab-df-quickchart\" onclick=\"quickchart('df-957a5ab2-4b07-4dfb-9d68-a6bba2785103')\"\n",
              "            title=\"Suggest charts\"\n",
              "            style=\"display:none;\">\n",
              "\n",
              "<svg xmlns=\"http://www.w3.org/2000/svg\" height=\"24px\"viewBox=\"0 0 24 24\"\n",
              "     width=\"24px\">\n",
              "    <g>\n",
              "        <path d=\"M19 3H5c-1.1 0-2 .9-2 2v14c0 1.1.9 2 2 2h14c1.1 0 2-.9 2-2V5c0-1.1-.9-2-2-2zM9 17H7v-7h2v7zm4 0h-2V7h2v10zm4 0h-2v-4h2v4z\"/>\n",
              "    </g>\n",
              "</svg>\n",
              "  </button>\n",
              "\n",
              "<style>\n",
              "  .colab-df-quickchart {\n",
              "      --bg-color: #E8F0FE;\n",
              "      --fill-color: #1967D2;\n",
              "      --hover-bg-color: #E2EBFA;\n",
              "      --hover-fill-color: #174EA6;\n",
              "      --disabled-fill-color: #AAA;\n",
              "      --disabled-bg-color: #DDD;\n",
              "  }\n",
              "\n",
              "  [theme=dark] .colab-df-quickchart {\n",
              "      --bg-color: #3B4455;\n",
              "      --fill-color: #D2E3FC;\n",
              "      --hover-bg-color: #434B5C;\n",
              "      --hover-fill-color: #FFFFFF;\n",
              "      --disabled-bg-color: #3B4455;\n",
              "      --disabled-fill-color: #666;\n",
              "  }\n",
              "\n",
              "  .colab-df-quickchart {\n",
              "    background-color: var(--bg-color);\n",
              "    border: none;\n",
              "    border-radius: 50%;\n",
              "    cursor: pointer;\n",
              "    display: none;\n",
              "    fill: var(--fill-color);\n",
              "    height: 32px;\n",
              "    padding: 0;\n",
              "    width: 32px;\n",
              "  }\n",
              "\n",
              "  .colab-df-quickchart:hover {\n",
              "    background-color: var(--hover-bg-color);\n",
              "    box-shadow: 0 1px 2px rgba(60, 64, 67, 0.3), 0 1px 3px 1px rgba(60, 64, 67, 0.15);\n",
              "    fill: var(--button-hover-fill-color);\n",
              "  }\n",
              "\n",
              "  .colab-df-quickchart-complete:disabled,\n",
              "  .colab-df-quickchart-complete:disabled:hover {\n",
              "    background-color: var(--disabled-bg-color);\n",
              "    fill: var(--disabled-fill-color);\n",
              "    box-shadow: none;\n",
              "  }\n",
              "\n",
              "  .colab-df-spinner {\n",
              "    border: 2px solid var(--fill-color);\n",
              "    border-color: transparent;\n",
              "    border-bottom-color: var(--fill-color);\n",
              "    animation:\n",
              "      spin 1s steps(1) infinite;\n",
              "  }\n",
              "\n",
              "  @keyframes spin {\n",
              "    0% {\n",
              "      border-color: transparent;\n",
              "      border-bottom-color: var(--fill-color);\n",
              "      border-left-color: var(--fill-color);\n",
              "    }\n",
              "    20% {\n",
              "      border-color: transparent;\n",
              "      border-left-color: var(--fill-color);\n",
              "      border-top-color: var(--fill-color);\n",
              "    }\n",
              "    30% {\n",
              "      border-color: transparent;\n",
              "      border-left-color: var(--fill-color);\n",
              "      border-top-color: var(--fill-color);\n",
              "      border-right-color: var(--fill-color);\n",
              "    }\n",
              "    40% {\n",
              "      border-color: transparent;\n",
              "      border-right-color: var(--fill-color);\n",
              "      border-top-color: var(--fill-color);\n",
              "    }\n",
              "    60% {\n",
              "      border-color: transparent;\n",
              "      border-right-color: var(--fill-color);\n",
              "    }\n",
              "    80% {\n",
              "      border-color: transparent;\n",
              "      border-right-color: var(--fill-color);\n",
              "      border-bottom-color: var(--fill-color);\n",
              "    }\n",
              "    90% {\n",
              "      border-color: transparent;\n",
              "      border-bottom-color: var(--fill-color);\n",
              "    }\n",
              "  }\n",
              "</style>\n",
              "\n",
              "  <script>\n",
              "    async function quickchart(key) {\n",
              "      const quickchartButtonEl =\n",
              "        document.querySelector('#' + key + ' button');\n",
              "      quickchartButtonEl.disabled = true;  // To prevent multiple clicks.\n",
              "      quickchartButtonEl.classList.add('colab-df-spinner');\n",
              "      try {\n",
              "        const charts = await google.colab.kernel.invokeFunction(\n",
              "            'suggestCharts', [key], {});\n",
              "      } catch (error) {\n",
              "        console.error('Error during call to suggestCharts:', error);\n",
              "      }\n",
              "      quickchartButtonEl.classList.remove('colab-df-spinner');\n",
              "      quickchartButtonEl.classList.add('colab-df-quickchart-complete');\n",
              "    }\n",
              "    (() => {\n",
              "      let quickchartButtonEl =\n",
              "        document.querySelector('#df-957a5ab2-4b07-4dfb-9d68-a6bba2785103 button');\n",
              "      quickchartButtonEl.style.display =\n",
              "        google.colab.kernel.accessAllowed ? 'block' : 'none';\n",
              "    })();\n",
              "  </script>\n",
              "</div>\n",
              "    </div>\n",
              "  </div>\n"
            ]
          },
          "metadata": {},
          "execution_count": 42
        }
      ]
    },
    {
      "cell_type": "code",
      "source": [
        "# Each row should have 3 scores, 1 for each summary\n",
        "# {'fname': STRING, 'scores': ARRAY[{'rouge1': FLOAT, 'rouge2': FLOAT, 'rougeL': FLOAT, 'rougeLsum': FLOAT}]}\n",
        "\n",
        "# {'fname': 'test_0',\n",
        "#   'scores': [{\n",
        "#     'rouge1': 0.8421052631578948,\n",
        "#     'rouge2': 0.5882352941176471,\n",
        "#     'rougeL': 0.8421052631578948,\n",
        "#     'rougeLsum': 0.8421052631578948\n",
        "#   },\n",
        "#   {\n",
        "#     'rouge1': 0.8421052631578948,\n",
        "#     'rouge2': 0.5882352941176471,\n",
        "#     'rougeL': 0.8421052631578948,\n",
        "#     'rougeLsum': 0.8421052631578948\n",
        "#   }]\n",
        "#}"
      ],
      "metadata": {
        "id": "ZxvCm--g6URP"
      },
      "id": "ZxvCm--g6URP",
      "execution_count": null,
      "outputs": []
    },
    {
      "cell_type": "code",
      "source": [
        "# scores\n",
        "# {\n",
        "#   'test_01': ARRAY[\n",
        "#     {'rouge1': FLOAT, 'rouge2': FLOAT, 'rougeL': FLOAT, 'rougeLsum': FLOAT},\n",
        "#     {'rouge1': FLOAT, 'rouge2': FLOAT, 'rougeL': FLOAT, 'rougeLsum': FLOAT},\n",
        "#    ]}"
      ],
      "metadata": {
        "id": "jygxeioy8QGC"
      },
      "id": "jygxeioy8QGC",
      "execution_count": null,
      "outputs": []
    },
    {
      "cell_type": "code",
      "source": [
        "all_scores = {}\n",
        "for index, row in tuned_model_results.iterrows():\n",
        "  fname = row['fname']\n",
        "  dialogue = row['dialogue']\n",
        "  tuned_summary = row['summary']\n",
        "\n",
        "  # Test data includes 3 variations of accepted summaries. Add them to an array\n",
        "  ref_summaries = []\n",
        "  ref_summaries.append(test_prompts.loc[(test_prompts['fname'] == fname) & (test_prompts['dialogue'] == dialogue)]['summary1'].values[0])\n",
        "  ref_summaries.append(test_prompts.loc[(test_prompts['fname'] == fname) & (test_prompts['dialogue'] == dialogue)]['summary2'].values[0])\n",
        "  ref_summaries.append(test_prompts.loc[(test_prompts['fname'] == fname) & (test_prompts['dialogue'] == dialogue)]['summary3'].values[0])\n",
        "\n",
        "  predictions = [tuned_summary]\n",
        "  references = [ref_summaries]\n",
        "\n",
        "  score = rouge.compute(\n",
        "            predictions=predictions,\n",
        "            references=references)\n",
        "\n",
        "  all_scores[fname] = score\n",
        "\n",
        "print(all_scores)"
      ],
      "metadata": {
        "id": "ayMU-Lfz78Xs"
      },
      "id": "ayMU-Lfz78Xs",
      "execution_count": null,
      "outputs": []
    },
    {
      "cell_type": "markdown",
      "source": [],
      "metadata": {
        "id": "WNsRlNW2DK-K"
      },
      "id": "WNsRlNW2DK-K"
    }
  ],
  "metadata": {
    "kernelspec": {
      "display_name": "Python 3",
      "language": "python",
      "name": "python3"
    },
    "language_info": {
      "codemirror_mode": {
        "name": "ipython",
        "version": 3
      },
      "file_extension": ".py",
      "mimetype": "text/x-python",
      "name": "python",
      "nbconvert_exporter": "python",
      "pygments_lexer": "ipython3",
      "version": "3.10.10"
    },
    "colab": {
      "provenance": [],
      "toc_visible": true,
      "name": "rgmartinez (May 10, 2024, 4:14:23 PM)"
    }
  },
  "nbformat": 4,
  "nbformat_minor": 5
}